{
 "cells": [
  {
   "cell_type": "markdown",
   "metadata": {},
   "source": [
    "# Pneumonia Diagnosis using Lungs' XRays "
   ]
  },
  {
   "cell_type": "code",
   "execution_count": 1,
   "metadata": {
    "_cell_guid": "b1076dfc-b9ad-4769-8c92-a6c4dae69d19",
    "_uuid": "8f2839f25d086af736a60e9eeb907d3b93b6e0e5"
   },
   "outputs": [
    {
     "name": "stdout",
     "output_type": "stream",
     "text": [
      "['val', 'train', '.DS_Store', 'test', '.ipynb_checkpoints']\n"
     ]
    }
   ],
   "source": [
    "import pandas as pd \n",
    "import cv2                 \n",
    "import numpy as np         \n",
    "import os                  \n",
    "from random import shuffle\n",
    "from tqdm import tqdm  \n",
    "import scipy\n",
    "import skimage\n",
    "from skimage.transform import resize\n",
    "print(os.listdir(\"../chest_xray\"))"
   ]
  },
  {
   "cell_type": "code",
   "execution_count": 2,
   "metadata": {
    "_uuid": "99966688a2a2a8cbb5cf35aeac5e0126b0a1b7f7"
   },
   "outputs": [
    {
     "name": "stdout",
     "output_type": "stream",
     "text": [
      "['.DS_Store', 'PNEUMONIA', 'NORMAL']\n"
     ]
    }
   ],
   "source": [
    "print(os.listdir(\"../chest_xray/train/\"))"
   ]
  },
  {
   "cell_type": "code",
   "execution_count": 3,
   "metadata": {
    "_cell_guid": "79c7e3d0-c299-4dcb-8224-4455121ee9b0",
    "_uuid": "d629ff2d2480ee46fbb7e2d37f6b5fab8052498a"
   },
   "outputs": [],
   "source": [
    "TRAIN_DIR = \"../chest_xray/train/\"\n",
    "TEST_DIR =  \"../chest_xray/test/\""
   ]
  },
  {
   "cell_type": "markdown",
   "metadata": {},
   "source": [
    "**Preprocessing**"
   ]
  },
  {
   "cell_type": "code",
   "execution_count": 4,
   "metadata": {
    "_uuid": "fc9065d2b4d6c9efa44dc5d91bd7f2de00c1aedc"
   },
   "outputs": [],
   "source": [
    "def get_label(Dir):\n",
    "    for nextdir in os.listdir(Dir):\n",
    "        if not nextdir.startswith('.'):\n",
    "            if nextdir in ['NORMAL']:\n",
    "                label = 0\n",
    "            elif nextdir in ['PNEUMONIA']:\n",
    "                label = 1\n",
    "            else:\n",
    "                label = 2\n",
    "    return nextdir, label"
   ]
  },
  {
   "cell_type": "code",
   "execution_count": 5,
   "metadata": {
    "_uuid": "f4eb2d75f5f7281d78aa3f660b04a88167480184"
   },
   "outputs": [],
   "source": [
    "def preprocessing_data(Dir):\n",
    "    X = []\n",
    "    y = []\n",
    "    \n",
    "    for nextdir in os.listdir(Dir):\n",
    "        nextdir, label = get_label(Dir)\n",
    "        temp = Dir + nextdir\n",
    "        \n",
    "        for image_filename in tqdm(os.listdir(temp)):\n",
    "            path = os.path.join(temp + '/' , image_filename)\n",
    "            img = cv2.imread(path,cv2.IMREAD_GRAYSCALE)\n",
    "            if img is not None:\n",
    "                img = skimage.transform.resize(img, (150, 150, 3))\n",
    "                img = np.asarray(img)\n",
    "                X.append(img)\n",
    "                y.append(label)\n",
    "            \n",
    "    X = np.asarray(X)\n",
    "    y = np.asarray(y)\n",
    "    \n",
    "    return X,y"
   ]
  },
  {
   "cell_type": "code",
   "execution_count": 6,
   "metadata": {
    "_uuid": "f2812029451339945959e2beb9ef67b0ef8acb24"
   },
   "outputs": [],
   "source": [
    "# X_train, y_train = preprocessing_data(TRAIN_DIR)"
   ]
  },
  {
   "cell_type": "code",
   "execution_count": 7,
   "metadata": {
    "_uuid": "92f8a36e8392ec7d61013478d2336afcebffa94f"
   },
   "outputs": [],
   "source": [
    "def get_data(Dir):\n",
    "    X = []\n",
    "    y = []\n",
    "    for nextDir in os.listdir(Dir):\n",
    "        if not nextDir.startswith('.'):\n",
    "            if nextDir in ['NORMAL']:\n",
    "                label = 0\n",
    "            elif nextDir in ['PNEUMONIA']:\n",
    "                label = 1\n",
    "            else:\n",
    "                label = 2\n",
    "                \n",
    "            temp = Dir + nextDir\n",
    "                \n",
    "            for file in tqdm(os.listdir(temp)):\n",
    "                img = cv2.imread(temp + '/' + file)\n",
    "                if img is not None:\n",
    "                    img = skimage.transform.resize(img, (150, 150, 3))\n",
    "                    #img_file = scipy.misc.imresize(arr=img_file, size=(150, 150, 3))\n",
    "                    img = np.asarray(img)\n",
    "                    X.append(img)\n",
    "                    y.append(label)\n",
    "                    \n",
    "    X = np.asarray(X)\n",
    "    y = np.asarray(y)\n",
    "    return X,y"
   ]
  },
  {
   "cell_type": "code",
   "execution_count": 8,
   "metadata": {},
   "outputs": [
    {
     "name": "stderr",
     "output_type": "stream",
     "text": [
      "Using TensorFlow backend.\n"
     ]
    },
    {
     "name": "stdout",
     "output_type": "stream",
     "text": [
      "Loaded images from X_train.h5\n"
     ]
    }
   ],
   "source": [
    "## Citlalli addition\n",
    "#X_train, y_train = get_data(TRAIN_DIR)\n",
    "\n",
    "import h5py\n",
    "from keras.utils.np_utils import to_categorical\n",
    "\n",
    "#------- Read training images---------------------------------------------------\n",
    "NUM_CLASSES = 2 # Binary output\n",
    "IMAGE_DIMS = (150,150,3)\n",
    "file_name = 'X_train.h5' # File name for saving your training images\n",
    "\n",
    "try:\n",
    "    with  h5py.File(file_name) as hf: \n",
    "        X_train, y_train = hf['imgs'][:], hf['labels'][:]\n",
    "    print(\"Loaded images from {}\".format(file_name))\n",
    "    \n",
    "except (IOError,OSError, KeyError):  \n",
    "    print(\"Error in reading {}. Processing all images...\".format(file_name))\n",
    "    #root_dir = \"../chest_xray/train/\" # changed to your needs\n",
    "\n",
    "    X_train, y_train = get_data(TRAIN_DIR)\n",
    "\n",
    "    y_train = to_categorical(y_train, NUM_CLASSES)\n",
    "    # Save the training dictionary\n",
    "    with h5py.File(file_name,'w') as hf:\n",
    "        hf.create_dataset('imgs', data=X_train)\n",
    "        hf.create_dataset('labels', data=y_train)"
   ]
  },
  {
   "cell_type": "code",
   "execution_count": 9,
   "metadata": {},
   "outputs": [
    {
     "name": "stdout",
     "output_type": "stream",
     "text": [
      "Loaded images from X_test.h5\n"
     ]
    }
   ],
   "source": [
    "## Citlalli addition\n",
    "#X_test , y_test = get_data(TEST_DIR)\n",
    "\n",
    "#------- Read test images---------------------------------------------------\n",
    "NUM_CLASSES = 2 # Binary output\n",
    "IMAGE_DIMS = (150,150,3)\n",
    "file_name = 'X_test.h5' # File name for saving your training images\n",
    "\n",
    "try:\n",
    "    with  h5py.File(file_name) as hf: \n",
    "        X_test, y_test = hf['imgs'][:], hf['labels'][:]\n",
    "    print(\"Loaded images from {}\".format(file_name))\n",
    "    \n",
    "except (IOError,OSError, KeyError):  \n",
    "    print(\"Error in reading {}. Processing all images...\".format(file_name))\n",
    "    #root_dir = \"../chest_xray/test/\" # changed to your needs\n",
    "\n",
    "    X_test, y_test = get_data(TEST/_DIR)\n",
    "\n",
    "    y_test = to_categorical(y_test, NUM_CLASSES)\n",
    "    # Save the training dictionary\n",
    "    with h5py.File(file_name,'w') as hf:\n",
    "        hf.create_dataset('imgs', data=X_test)\n",
    "        hf.create_dataset('labels', data=y_test)"
   ]
  },
  {
   "cell_type": "code",
   "execution_count": 10,
   "metadata": {
    "_uuid": "dcc0d8d64482e18b6751c75159327244bc90f8dd"
   },
   "outputs": [
    {
     "name": "stdout",
     "output_type": "stream",
     "text": [
      "Training images:(5216, 150, 150, 3) \n",
      " Testing images: (624, 150, 150, 3)\n"
     ]
    }
   ],
   "source": [
    "print('Training images:{} \\n Testing images: {}'.format(X_train.shape,X_test.shape))"
   ]
  },
  {
   "cell_type": "code",
   "execution_count": 11,
   "metadata": {
    "_uuid": "1d12c874fc40f26fd9b8e6c3855fc449dab1bbbd"
   },
   "outputs": [
    {
     "name": "stdout",
     "output_type": "stream",
     "text": [
      "Training labels:(5216, 2) \n",
      " Testing labels: (624, 2)\n"
     ]
    }
   ],
   "source": [
    "print('Training labels:{} \\n Testing labels: {}'.format(y_train.shape,y_test.shape))"
   ]
  },
  {
   "cell_type": "code",
   "execution_count": 12,
   "metadata": {
    "_uuid": "93cd5729fe2e58c9ca77996fa182cfc614a40917"
   },
   "outputs": [],
   "source": [
    "#from keras.utils.np_utils import to_categorical\n",
    "\n",
    "#y_train = to_categorical(y_train, 2)\n",
    "#y_test = to_categorical(y_test, 2)"
   ]
  },
  {
   "cell_type": "markdown",
   "metadata": {},
   "source": [
    "**The arrays are not normalized because they have already been provided in the necessary format.**"
   ]
  },
  {
   "cell_type": "code",
   "execution_count": 13,
   "metadata": {
    "_uuid": "c31cc3c0880ad10a71c979bdab024a15b814d334"
   },
   "outputs": [],
   "source": [
    "Pimages = os.listdir(TRAIN_DIR + \"PNEUMONIA\")\n",
    "Nimages = os.listdir(TRAIN_DIR + \"NORMAL\")"
   ]
  },
  {
   "cell_type": "code",
   "execution_count": 14,
   "metadata": {
    "_uuid": "59c473cc8874b77f2ad6e08843fd327da942dfc3"
   },
   "outputs": [
    {
     "name": "stdout",
     "output_type": "stream",
     "text": [
      "(Left) - No Pneumonia Vs (Right) - Pneumonia\n",
      "-----------------------------------------------------------------------------------------------------------------------------------\n"
     ]
    },
    {
     "name": "stderr",
     "output_type": "stream",
     "text": [
      "/home/martin/anaconda3/envs/tfgpu/lib/python3.6/site-packages/skimage/transform/_warps.py:110: UserWarning: Anti-aliasing will be enabled by default in skimage 0.15 to avoid aliasing artifacts when down-sampling images.\n",
      "  warn(\"Anti-aliasing will be enabled by default in skimage 0.15 to \"\n",
      "/home/martin/anaconda3/envs/tfgpu/lib/python3.6/site-packages/skimage/transform/_warps.py:105: UserWarning: The default mode, 'constant', will be changed to 'reflect' in skimage 0.15.\n",
      "  warn(\"The default mode, 'constant', will be changed to 'reflect' in \"\n"
     ]
    },
    {
     "data": {
      "text/plain": [
       "<Figure size 1000x500 with 1 Axes>"
      ]
     },
     "metadata": {},
     "output_type": "display_data"
    },
    {
     "name": "stdout",
     "output_type": "stream",
     "text": [
      "(Left) - No Pneumonia Vs (Right) - Pneumonia\n",
      "-----------------------------------------------------------------------------------------------------------------------------------\n"
     ]
    },
    {
     "data": {
      "text/plain": [
       "<Figure size 1000x500 with 1 Axes>"
      ]
     },
     "metadata": {},
     "output_type": "display_data"
    },
    {
     "name": "stdout",
     "output_type": "stream",
     "text": [
      "(Left) - No Pneumonia Vs (Right) - Pneumonia\n",
      "-----------------------------------------------------------------------------------------------------------------------------------\n"
     ]
    },
    {
     "data": {
      "text/plain": [
       "<Figure size 1000x500 with 1 Axes>"
      ]
     },
     "metadata": {},
     "output_type": "display_data"
    },
    {
     "name": "stdout",
     "output_type": "stream",
     "text": [
      "(Left) - No Pneumonia Vs (Right) - Pneumonia\n",
      "-----------------------------------------------------------------------------------------------------------------------------------\n"
     ]
    },
    {
     "data": {
      "text/plain": [
       "<Figure size 1000x500 with 1 Axes>"
      ]
     },
     "metadata": {},
     "output_type": "display_data"
    },
    {
     "name": "stdout",
     "output_type": "stream",
     "text": [
      "(Left) - No Pneumonia Vs (Right) - Pneumonia\n",
      "-----------------------------------------------------------------------------------------------------------------------------------\n"
     ]
    },
    {
     "data": {
      "text/plain": [
       "<Figure size 1000x500 with 1 Axes>"
      ]
     },
     "metadata": {},
     "output_type": "display_data"
    }
   ],
   "source": [
    "import matplotlib.pyplot as plt\n",
    "def plotter(i):\n",
    "    imagep1 = cv2.imread(TRAIN_DIR+\"PNEUMONIA/\"+Pimages[i])\n",
    "    imagep1 = skimage.transform.resize(imagep1, (150, 150, 3) , mode = 'reflect')\n",
    "    imagen1 = cv2.imread(TRAIN_DIR+\"NORMAL/\"+Nimages[i])\n",
    "    imagen1 = skimage.transform.resize(imagen1, (150, 150, 3))\n",
    "    pair = np.concatenate((imagen1, imagep1), axis=1)\n",
    "    print(\"(Left) - No Pneumonia Vs (Right) - Pneumonia\")\n",
    "    print(\"-----------------------------------------------------------------------------------------------------------------------------------\")\n",
    "    plt.figure(figsize=(10,5))\n",
    "    plt.imshow(pair)\n",
    "    plt.show()\n",
    "for i in range(0,5):\n",
    "    plotter(i)"
   ]
  },
  {
   "cell_type": "code",
   "execution_count": 15,
   "metadata": {
    "_uuid": "63ff6fcfd5aa6650097a8a7d5d0858338b7c3e59"
   },
   "outputs": [
    {
     "data": {
      "text/plain": [
       "<matplotlib.axes._subplots.AxesSubplot at 0x7f41aa0307f0>"
      ]
     },
     "execution_count": 15,
     "metadata": {},
     "output_type": "execute_result"
    },
    {
     "data": {
      "image/png": "[encoded data removed]",
      "text/plain": [
       "<Figure size 432x288 with 1 Axes>"
      ]
     },
     "metadata": {
      "needs_background": "light"
     },
     "output_type": "display_data"
    }
   ],
   "source": [
    "import seaborn as sns\n",
    "count = y_train.sum(axis = 0)\n",
    "sns.countplot(x = count)"
   ]
  },
  {
   "cell_type": "code",
   "execution_count": 16,
   "metadata": {},
   "outputs": [
    {
     "data": {
      "text/plain": [
       "array([234., 390.], dtype=float32)"
      ]
     },
     "execution_count": 16,
     "metadata": {},
     "output_type": "execute_result"
    }
   ],
   "source": [
    "y_test.sum(axis = 0)"
   ]
  },
  {
   "cell_type": "markdown",
   "metadata": {},
   "source": [
    "**The classes are imbalanced therefore validation accuracy won't be a good metric to analyze the model performance , We will also have to take precision , recall and confusion matrix into account.**"
   ]
  },
  {
   "cell_type": "code",
   "execution_count": 17,
   "metadata": {
    "_uuid": "a6003a267e5e97728a2f9285f67f4e81ab0d2b62"
   },
   "outputs": [
    {
     "name": "stderr",
     "output_type": "stream",
     "text": [
      "/home/martin/anaconda3/envs/tfgpu/lib/python3.6/site-packages/keras/callbacks.py:1065: UserWarning: `epsilon` argument is deprecated and will be removed, use `min_delta` instead.\n",
      "  warnings.warn('`epsilon` argument is deprecated and '\n"
     ]
    }
   ],
   "source": [
    "from keras.callbacks import ReduceLROnPlateau , ModelCheckpoint\n",
    "lr_reduce = ReduceLROnPlateau(monitor='val_acc', factor=0.1, epsilon=0.0001, patience=1, verbose=1)"
   ]
  },
  {
   "cell_type": "markdown",
   "metadata": {},
   "source": [
    "**Callbacks to reduce learning rate timely after monitoring a quantity.**"
   ]
  },
  {
   "cell_type": "code",
   "execution_count": 18,
   "metadata": {
    "_uuid": "8dc46c73181cbb9e837f6ab498a3220932c86733"
   },
   "outputs": [],
   "source": [
    "filepath=\"weights_batcNorm.hdf5\"\n",
    "checkpoint = ModelCheckpoint(filepath, monitor='val_acc', verbose=1, save_best_only=True, mode='max')"
   ]
  },
  {
   "cell_type": "markdown",
   "metadata": {},
   "source": [
    "**Making checkpoints timely to check and save the best model performance till last and also avoiding further validation accuracy drop due to overfitting.**"
   ]
  },
  {
   "cell_type": "code",
   "execution_count": 19,
   "metadata": {
    "_uuid": "ed6fe4cbd06dd13194092344442cc718d93f6b7d"
   },
   "outputs": [],
   "source": [
    "from keras.models import Sequential\n",
    "from keras.layers import Dense , Activation\n",
    "from keras.layers import Dropout\n",
    "from keras.layers import Flatten\n",
    "from keras.constraints import maxnorm\n",
    "from keras.optimizers import SGD , RMSprop\n",
    "from keras.layers import Conv2D , BatchNormalization\n",
    "from keras.layers import MaxPooling2D\n",
    "from keras.utils import np_utils\n",
    "from keras import backend as K\n",
    "K.set_image_dim_ordering('th')\n",
    "from sklearn.model_selection import GridSearchCV\n",
    "from keras.wrappers.scikit_learn import KerasClassifier"
   ]
  },
  {
   "cell_type": "code",
   "execution_count": 20,
   "metadata": {
    "_uuid": "e72ef6b28c97a727a2c31490bd280faa86719fec"
   },
   "outputs": [],
   "source": [
    "X_train=X_train.reshape(5216,3,150,150)\n",
    "X_test=X_test.reshape(624,3,150,150)"
   ]
  },
  {
   "cell_type": "markdown",
   "metadata": {},
   "source": [
    "### Tried different model architectures , the best I could achieve was 83.75 % validation accuracy without any pre-trained CNN models. The architecture is different from the best and could give 83.01 %  . But again our main criteria is not accuracy but the precision and recall."
   ]
  },
  {
   "cell_type": "markdown",
   "metadata": {},
   "source": [
    "### Other Hyperparameters like learning rates, epochs, batch size , no. of filters , activation function have been tuned repeatedly to achieve better results."
   ]
  },
  {
   "cell_type": "code",
   "execution_count": 21,
   "metadata": {
    "_uuid": "2045e6d4442a6a30297237d0e963e08bd8c3f48b"
   },
   "outputs": [
    {
     "name": "stdout",
     "output_type": "stream",
     "text": [
      "_________________________________________________________________\n",
      "Layer (type)                 Output Shape              Param #   \n",
      "=================================================================\n",
      "conv2d_1 (Conv2D)            (None, 16, 150, 150)      448       \n",
      "_________________________________________________________________\n",
      "batch_normalization_1 (Batch (None, 16, 150, 150)      600       \n",
      "_________________________________________________________________\n",
      "activation_1 (Activation)    (None, 16, 150, 150)      0         \n",
      "_________________________________________________________________\n",
      "conv2d_2 (Conv2D)            (None, 16, 150, 150)      2320      \n",
      "_________________________________________________________________\n",
      "batch_normalization_2 (Batch (None, 16, 150, 150)      600       \n",
      "_________________________________________________________________\n",
      "activation_2 (Activation)    (None, 16, 150, 150)      0         \n",
      "_________________________________________________________________\n",
      "max_pooling2d_1 (MaxPooling2 (None, 16, 75, 75)        0         \n",
      "_________________________________________________________________\n",
      "conv2d_3 (Conv2D)            (None, 32, 75, 75)        4640      \n",
      "_________________________________________________________________\n",
      "batch_normalization_3 (Batch (None, 32, 75, 75)        300       \n",
      "_________________________________________________________________\n",
      "activation_3 (Activation)    (None, 32, 75, 75)        0         \n",
      "_________________________________________________________________\n",
      "conv2d_4 (Conv2D)            (None, 32, 75, 75)        9248      \n",
      "_________________________________________________________________\n",
      "batch_normalization_4 (Batch (None, 32, 75, 75)        300       \n",
      "_________________________________________________________________\n",
      "activation_4 (Activation)    (None, 32, 75, 75)        0         \n",
      "_________________________________________________________________\n",
      "max_pooling2d_2 (MaxPooling2 (None, 32, 37, 37)        0         \n",
      "_________________________________________________________________\n",
      "conv2d_5 (Conv2D)            (None, 64, 37, 37)        18496     \n",
      "_________________________________________________________________\n",
      "batch_normalization_5 (Batch (None, 64, 37, 37)        148       \n",
      "_________________________________________________________________\n",
      "activation_5 (Activation)    (None, 64, 37, 37)        0         \n",
      "_________________________________________________________________\n",
      "conv2d_6 (Conv2D)            (None, 64, 37, 37)        36928     \n",
      "_________________________________________________________________\n",
      "batch_normalization_6 (Batch (None, 64, 37, 37)        148       \n",
      "_________________________________________________________________\n",
      "activation_6 (Activation)    (None, 64, 37, 37)        0         \n",
      "_________________________________________________________________\n",
      "max_pooling2d_3 (MaxPooling2 (None, 64, 18, 18)        0         \n",
      "_________________________________________________________________\n",
      "conv2d_7 (Conv2D)            (None, 96, 18, 18)        55392     \n",
      "_________________________________________________________________\n",
      "batch_normalization_7 (Batch (None, 96, 18, 18)        72        \n",
      "_________________________________________________________________\n",
      "activation_7 (Activation)    (None, 96, 18, 18)        0         \n",
      "_________________________________________________________________\n",
      "conv2d_8 (Conv2D)            (None, 96, 16, 16)        83040     \n",
      "_________________________________________________________________\n",
      "batch_normalization_8 (Batch (None, 96, 16, 16)        64        \n",
      "_________________________________________________________________\n",
      "activation_8 (Activation)    (None, 96, 16, 16)        0         \n",
      "_________________________________________________________________\n",
      "max_pooling2d_4 (MaxPooling2 (None, 96, 8, 8)          0         \n",
      "_________________________________________________________________\n",
      "conv2d_9 (Conv2D)            (None, 128, 8, 8)         110720    \n",
      "_________________________________________________________________\n",
      "batch_normalization_9 (Batch (None, 128, 8, 8)         32        \n",
      "_________________________________________________________________\n",
      "activation_9 (Activation)    (None, 128, 8, 8)         0         \n",
      "_________________________________________________________________\n",
      "conv2d_10 (Conv2D)           (None, 128, 6, 6)         147584    \n",
      "_________________________________________________________________\n",
      "batch_normalization_10 (Batc (None, 128, 6, 6)         24        \n",
      "_________________________________________________________________\n",
      "activation_10 (Activation)   (None, 128, 6, 6)         0         \n",
      "_________________________________________________________________\n",
      "max_pooling2d_5 (MaxPooling2 (None, 128, 3, 3)         0         \n",
      "_________________________________________________________________\n",
      "flatten_1 (Flatten)          (None, 1152)              0         \n",
      "_________________________________________________________________\n",
      "dense_1 (Dense)              (None, 64)                73792     \n",
      "_________________________________________________________________\n",
      "dropout_1 (Dropout)          (None, 64)                0         \n",
      "_________________________________________________________________\n",
      "dense_2 (Dense)              (None, 2)                 130       \n",
      "=================================================================\n",
      "Total params: 545,026\n",
      "Trainable params: 543,882\n",
      "Non-trainable params: 1,144\n",
      "_________________________________________________________________\n",
      "None\n"
     ]
    }
   ],
   "source": [
    "from keras.layers.normalization import BatchNormalization\n",
    "\n",
    "def swish_activation(x):\n",
    "    return (K.sigmoid(x) * x)\n",
    "\n",
    "\n",
    "model = Sequential()\n",
    "#model.add(Conv2D(16, (3, 3), activation='relu', padding=\"same\", input_shape=(3,150,150)))\n",
    "model.add(Conv2D(16, (3, 3), padding=\"same\", input_shape=(3,150,150))) #added\n",
    "model.add(BatchNormalization()) # added\n",
    "model.add(Activation('relu')) #added\n",
    "#model.add(Conv2D(16, (3, 3), padding=\"same\", activation='relu'))\n",
    "model.add(Conv2D(16, (3, 3), padding=\"same\"))\n",
    "model.add(BatchNormalization()) # added\n",
    "model.add(Activation('relu')) #added\n",
    "model.add(MaxPooling2D(pool_size=(2, 2)))\n",
    "\n",
    "#model.add(Conv2D(32, (3, 3), activation='relu', padding=\"same\", input_shape=(3,150,150)))\n",
    "model.add(Conv2D(32, (3, 3), padding=\"same\", input_shape=(3,150,150)))\n",
    "model.add(BatchNormalization()) # added\n",
    "model.add(Activation('relu')) #added\n",
    "#model.add(Conv2D(32, (3, 3), padding=\"same\", activation='relu'))\n",
    "model.add(Conv2D(32, (3, 3), padding=\"same\"))\n",
    "model.add(BatchNormalization()) # added\n",
    "model.add(Activation('relu')) #added\n",
    "model.add(MaxPooling2D(pool_size=(2, 2)))\n",
    "\n",
    "#model.add(Conv2D(64, (3, 3), activation='relu', padding=\"same\"))\n",
    "model.add(Conv2D(64, (3, 3),  padding=\"same\"))\n",
    "model.add(BatchNormalization()) # added\n",
    "model.add(Activation('relu')) #added\n",
    "#model.add(Conv2D(64, (3, 3), padding=\"same\", activation='relu'))\n",
    "model.add(Conv2D(64, (3, 3), padding=\"same\"))\n",
    "model.add(BatchNormalization()) # added\n",
    "model.add(Activation('relu')) #added\n",
    "model.add(MaxPooling2D(pool_size=(2, 2)))\n",
    "\n",
    "#model.add(Conv2D(96, (3, 3), dilation_rate=(2, 2), activation='relu', padding=\"same\"))\n",
    "model.add(Conv2D(96, (3, 3), dilation_rate=(2, 2), padding=\"same\"))\n",
    "model.add(BatchNormalization()) # added\n",
    "model.add(Activation('relu')) #added\n",
    "#model.add(Conv2D(96, (3, 3), padding=\"valid\", activation='relu'))\n",
    "model.add(Conv2D(96, (3, 3), padding=\"valid\"))\n",
    "model.add(BatchNormalization()) # added\n",
    "model.add(Activation('relu')) #added\n",
    "model.add(MaxPooling2D(pool_size=(2, 2)))\n",
    "\n",
    "#model.add(Conv2D(128, (3, 3), dilation_rate=(2, 2), activation='relu', padding=\"same\"))\n",
    "model.add(Conv2D(128, (3, 3), dilation_rate=(2, 2), padding=\"same\"))\n",
    "model.add(BatchNormalization()) # added\n",
    "model.add(Activation('relu')) #added\n",
    "#model.add(Conv2D(128, (3, 3), padding=\"valid\", activation='relu'))\n",
    "model.add(Conv2D(128, (3, 3), padding=\"valid\"))\n",
    "model.add(BatchNormalization()) # added\n",
    "model.add(Activation('relu')) #added\n",
    "model.add(MaxPooling2D(pool_size=(2, 2)))\n",
    "\n",
    "model.add(Flatten())\n",
    "\n",
    "model.add(Dense(64, activation=swish_activation))\n",
    "#model.add(BatchNormalization()) # added\n",
    "model.add(Dropout(0.4))\n",
    "model.add(Dense(2 , activation='sigmoid'))\n",
    "\n",
    "model.compile(loss='binary_crossentropy',\n",
    "                  optimizer=RMSprop(lr=0.00005),\n",
    "                  metrics=['accuracy'])\n",
    "\n",
    "print(model.summary())\n"
   ]
  },
  {
   "cell_type": "code",
   "execution_count": 22,
   "metadata": {
    "_uuid": "872c51c19987af69d74dbd13abd3c96002e2b910"
   },
   "outputs": [],
   "source": [
    "batch_size = 256\n",
    "epochs = 32"
   ]
  },
  {
   "cell_type": "code",
   "execution_count": 23,
   "metadata": {
    "_uuid": "4b25c341c262423545b23e6ebc6f73a0eaf8ae42"
   },
   "outputs": [
    {
     "name": "stdout",
     "output_type": "stream",
     "text": [
      "Train on 5216 samples, validate on 624 samples\n",
      "Epoch 1/32\n",
      "5216/5216 [==============================] - 11s 2ms/step - loss: 0.3766 - acc: 0.8434 - val_loss: 0.6551 - val_acc: 0.6811\n",
      "\n",
      "Epoch 00001: val_acc improved from -inf to 0.68109, saving model to weights_batcNorm.hdf5\n",
      "Epoch 2/32\n",
      "5216/5216 [==============================] - 10s 2ms/step - loss: 0.1883 - acc: 0.9249 - val_loss: 0.8993 - val_acc: 0.7027\n",
      "\n",
      "Epoch 00002: val_acc improved from 0.68109 to 0.70272, saving model to weights_batcNorm.hdf5\n",
      "Epoch 3/32\n",
      "5216/5216 [==============================] - 10s 2ms/step - loss: 0.1460 - acc: 0.9438 - val_loss: 0.9673 - val_acc: 0.7188\n",
      "\n",
      "Epoch 00003: val_acc improved from 0.70272 to 0.71875, saving model to weights_batcNorm.hdf5\n",
      "Epoch 4/32\n",
      "5216/5216 [==============================] - 10s 2ms/step - loss: 0.1220 - acc: 0.9550 - val_loss: 0.8825 - val_acc: 0.7516\n",
      "\n",
      "Epoch 00004: val_acc improved from 0.71875 to 0.75160, saving model to weights_batcNorm.hdf5\n",
      "Epoch 5/32\n",
      "5216/5216 [==============================] - 10s 2ms/step - loss: 0.1018 - acc: 0.9618 - val_loss: 1.1013 - val_acc: 0.7380\n",
      "\n",
      "Epoch 00005: ReduceLROnPlateau reducing learning rate to 4.999999873689376e-06.\n",
      "\n",
      "Epoch 00005: val_acc did not improve from 0.75160\n",
      "Epoch 6/32\n",
      "5216/5216 [==============================] - 10s 2ms/step - loss: 0.0738 - acc: 0.9752 - val_loss: 1.0955 - val_acc: 0.7460\n",
      "\n",
      "Epoch 00006: ReduceLROnPlateau reducing learning rate to 4.999999873689376e-07.\n",
      "\n",
      "Epoch 00006: val_acc did not improve from 0.75160\n",
      "Epoch 7/32\n",
      "5216/5216 [==============================] - 10s 2ms/step - loss: 0.0661 - acc: 0.9775 - val_loss: 1.1211 - val_acc: 0.7444\n",
      "\n",
      "Epoch 00007: ReduceLROnPlateau reducing learning rate to 4.999999987376214e-08.\n",
      "\n",
      "Epoch 00007: val_acc did not improve from 0.75160\n",
      "Epoch 8/32\n",
      "5216/5216 [==============================] - 10s 2ms/step - loss: 0.0660 - acc: 0.9769 - val_loss: 1.1315 - val_acc: 0.7428\n",
      "\n",
      "Epoch 00008: ReduceLROnPlateau reducing learning rate to 5.000000058430488e-09.\n",
      "\n",
      "Epoch 00008: val_acc did not improve from 0.75160\n",
      "Epoch 9/32\n",
      "5216/5216 [==============================] - 10s 2ms/step - loss: 0.0641 - acc: 0.9791 - val_loss: 1.1328 - val_acc: 0.7428\n",
      "\n",
      "Epoch 00009: ReduceLROnPlateau reducing learning rate to 4.999999969612646e-10.\n",
      "\n",
      "Epoch 00009: val_acc did not improve from 0.75160\n",
      "Epoch 10/32\n",
      "5216/5216 [==============================] - 10s 2ms/step - loss: 0.0630 - acc: 0.9788 - val_loss: 1.1327 - val_acc: 0.7428\n",
      "\n",
      "Epoch 00010: ReduceLROnPlateau reducing learning rate to 4.999999858590343e-11.\n",
      "\n",
      "Epoch 00010: val_acc did not improve from 0.75160\n",
      "Epoch 11/32\n",
      "5216/5216 [==============================] - 10s 2ms/step - loss: 0.0644 - acc: 0.9785 - val_loss: 1.1339 - val_acc: 0.7428\n",
      "\n",
      "Epoch 00011: ReduceLROnPlateau reducing learning rate to 4.999999719812465e-12.\n",
      "\n",
      "Epoch 00011: val_acc did not improve from 0.75160\n",
      "Epoch 12/32\n",
      "5216/5216 [==============================] - 10s 2ms/step - loss: 0.0670 - acc: 0.9770 - val_loss: 1.1344 - val_acc: 0.7428\n",
      "\n",
      "Epoch 00012: ReduceLROnPlateau reducing learning rate to 4.999999546340118e-13.\n",
      "\n",
      "Epoch 00012: val_acc did not improve from 0.75160\n",
      "Epoch 13/32\n",
      "5216/5216 [==============================] - 10s 2ms/step - loss: 0.0663 - acc: 0.9779 - val_loss: 1.1310 - val_acc: 0.7428\n",
      "\n",
      "Epoch 00013: ReduceLROnPlateau reducing learning rate to 4.9999994379199e-14.\n",
      "\n",
      "Epoch 00013: val_acc did not improve from 0.75160\n",
      "Epoch 14/32\n",
      "5216/5216 [==============================] - 10s 2ms/step - loss: 0.0626 - acc: 0.9795 - val_loss: 1.1322 - val_acc: 0.7436\n",
      "\n",
      "Epoch 00014: ReduceLROnPlateau reducing learning rate to 4.999999573445172e-15.\n",
      "\n",
      "Epoch 00014: val_acc did not improve from 0.75160\n",
      "Epoch 15/32\n",
      "5216/5216 [==============================] - 10s 2ms/step - loss: 0.0633 - acc: 0.9782 - val_loss: 1.1319 - val_acc: 0.7428\n",
      "\n",
      "Epoch 00015: ReduceLROnPlateau reducing learning rate to 4.999999488741877e-16.\n",
      "\n",
      "Epoch 00015: val_acc did not improve from 0.75160\n",
      "Epoch 16/32\n",
      "5216/5216 [==============================] - 10s 2ms/step - loss: 0.0643 - acc: 0.9778 - val_loss: 1.1329 - val_acc: 0.7420\n",
      "\n",
      "Epoch 00016: ReduceLROnPlateau reducing learning rate to 4.999999488741877e-17.\n",
      "\n",
      "Epoch 00016: val_acc did not improve from 0.75160\n",
      "Epoch 17/32\n",
      "5216/5216 [==============================] - 10s 2ms/step - loss: 0.0673 - acc: 0.9764 - val_loss: 1.1332 - val_acc: 0.7428\n",
      "\n",
      "Epoch 00017: ReduceLROnPlateau reducing learning rate to 4.999999422567428e-18.\n",
      "\n",
      "Epoch 00017: val_acc did not improve from 0.75160\n",
      "Epoch 18/32\n",
      "5216/5216 [==============================] - 10s 2ms/step - loss: 0.0654 - acc: 0.9784 - val_loss: 1.1319 - val_acc: 0.7428\n",
      "\n",
      "Epoch 00018: ReduceLROnPlateau reducing learning rate to 4.999999505285489e-19.\n",
      "\n",
      "Epoch 00018: val_acc did not improve from 0.75160\n",
      "Epoch 19/32\n",
      "5216/5216 [==============================] - 10s 2ms/step - loss: 0.0658 - acc: 0.9785 - val_loss: 1.1299 - val_acc: 0.7436\n",
      "\n",
      "Epoch 00019: ReduceLROnPlateau reducing learning rate to 4.9999997120806425e-20.\n",
      "\n",
      "Epoch 00019: val_acc did not improve from 0.75160\n",
      "Epoch 20/32\n",
      "5216/5216 [==============================] - 10s 2ms/step - loss: 0.0648 - acc: 0.9784 - val_loss: 1.1317 - val_acc: 0.7428\n",
      "\n",
      "Epoch 00020: ReduceLROnPlateau reducing learning rate to 4.999999841327613e-21.\n",
      "\n",
      "Epoch 00020: val_acc did not improve from 0.75160\n",
      "Epoch 21/32\n",
      "5216/5216 [==============================] - 10s 2ms/step - loss: 0.0658 - acc: 0.9769 - val_loss: 1.1321 - val_acc: 0.7444\n",
      "\n",
      "Epoch 00021: ReduceLROnPlateau reducing learning rate to 4.999999841327613e-22.\n",
      "\n",
      "Epoch 00021: val_acc did not improve from 0.75160\n",
      "Epoch 22/32\n",
      "5216/5216 [==============================] - 10s 2ms/step - loss: 0.0634 - acc: 0.9780 - val_loss: 1.1331 - val_acc: 0.7428\n",
      "\n",
      "Epoch 00022: ReduceLROnPlateau reducing learning rate to 4.9999998413276127e-23.\n",
      "\n",
      "Epoch 00022: val_acc did not improve from 0.75160\n",
      "Epoch 23/32\n",
      "5216/5216 [==============================] - 10s 2ms/step - loss: 0.0641 - acc: 0.9791 - val_loss: 1.1331 - val_acc: 0.7428\n",
      "\n",
      "Epoch 00023: ReduceLROnPlateau reducing learning rate to 4.999999841327613e-24.\n",
      "\n",
      "Epoch 00023: val_acc did not improve from 0.75160\n",
      "Epoch 24/32\n",
      "5216/5216 [==============================] - 10s 2ms/step - loss: 0.0643 - acc: 0.9783 - val_loss: 1.1351 - val_acc: 0.7428\n",
      "\n",
      "Epoch 00024: ReduceLROnPlateau reducing learning rate to 4.999999999099794e-25.\n",
      "\n",
      "Epoch 00024: val_acc did not improve from 0.75160\n",
      "Epoch 25/32\n",
      "5216/5216 [==============================] - 10s 2ms/step - loss: 0.0649 - acc: 0.9773 - val_loss: 1.1347 - val_acc: 0.7420\n",
      "\n",
      "Epoch 00025: ReduceLROnPlateau reducing learning rate to 5.000000097707407e-26.\n",
      "\n",
      "Epoch 00025: val_acc did not improve from 0.75160\n",
      "Epoch 26/32\n",
      "5216/5216 [==============================] - 10s 2ms/step - loss: 0.0633 - acc: 0.9801 - val_loss: 1.1360 - val_acc: 0.7420\n",
      "\n",
      "Epoch 00026: ReduceLROnPlateau reducing learning rate to 5.000000097707407e-27.\n",
      "\n",
      "Epoch 00026: val_acc did not improve from 0.75160\n",
      "Epoch 27/32\n",
      "5216/5216 [==============================] - 10s 2ms/step - loss: 0.0628 - acc: 0.9795 - val_loss: 1.1347 - val_acc: 0.7420\n",
      "\n",
      "Epoch 00027: ReduceLROnPlateau reducing learning rate to 4.999999943633012e-28.\n",
      "\n",
      "Epoch 00027: val_acc did not improve from 0.75160\n",
      "Epoch 28/32\n",
      "5216/5216 [==============================] - 10s 2ms/step - loss: 0.0660 - acc: 0.9761 - val_loss: 1.1307 - val_acc: 0.7436\n",
      "\n",
      "Epoch 00028: ReduceLROnPlateau reducing learning rate to 5.000000136226006e-29.\n",
      "\n",
      "Epoch 00028: val_acc did not improve from 0.75160\n",
      "Epoch 29/32\n",
      "5216/5216 [==============================] - 10s 2ms/step - loss: 0.0643 - acc: 0.9778 - val_loss: 1.1300 - val_acc: 0.7428\n",
      "\n",
      "Epoch 00029: ReduceLROnPlateau reducing learning rate to 5.000000015855384e-30.\n",
      "\n",
      "Epoch 00029: val_acc did not improve from 0.75160\n",
      "Epoch 30/32\n",
      "5216/5216 [==============================] - 10s 2ms/step - loss: 0.0644 - acc: 0.9790 - val_loss: 1.1313 - val_acc: 0.7428\n",
      "\n",
      "Epoch 00030: ReduceLROnPlateau reducing learning rate to 5.000000015855384e-31.\n",
      "\n",
      "Epoch 00030: val_acc did not improve from 0.75160\n",
      "Epoch 31/32\n",
      "5216/5216 [==============================] - 10s 2ms/step - loss: 0.0648 - acc: 0.9787 - val_loss: 1.1326 - val_acc: 0.7428\n",
      "\n",
      "Epoch 00031: ReduceLROnPlateau reducing learning rate to 5.000000015855385e-32.\n",
      "\n",
      "Epoch 00031: val_acc did not improve from 0.75160\n",
      "Epoch 32/32\n"
     ]
    },
    {
     "name": "stdout",
     "output_type": "stream",
     "text": [
      "5216/5216 [==============================] - 10s 2ms/step - loss: 0.0651 - acc: 0.9780 - val_loss: 1.1328 - val_acc: 0.7420\n",
      "\n",
      "Epoch 00032: ReduceLROnPlateau reducing learning rate to 4.999999898305949e-33.\n",
      "\n",
      "Epoch 00032: val_acc did not improve from 0.75160\n"
     ]
    }
   ],
   "source": [
    "history = model.fit(X_train, y_train, validation_data = (X_test , y_test) ,callbacks=[lr_reduce,checkpoint] ,\n",
    "          epochs=epochs)"
   ]
  },
  {
   "cell_type": "code",
   "execution_count": 24,
   "metadata": {
    "_uuid": "a5d099776e7b28863a150e980c7e6490338e1f54"
   },
   "outputs": [
    {
     "data": {
      "image/png": "[encoded data removed]",
      "text/plain": [
       "<Figure size 432x288 with 1 Axes>"
      ]
     },
     "metadata": {
      "needs_background": "light"
     },
     "output_type": "display_data"
    },
    {
     "data": {
      "image/png": "[encoded data removed]",
      "text/plain": [
       "<Figure size 432x288 with 1 Axes>"
      ]
     },
     "metadata": {
      "needs_background": "light"
     },
     "output_type": "display_data"
    }
   ],
   "source": [
    "import matplotlib.pyplot as plt\n",
    "\n",
    "plt.plot(history.history['acc'])\n",
    "plt.plot(history.history['val_acc'])\n",
    "plt.title('model accuracy')\n",
    "plt.ylabel('accuracy')\n",
    "plt.xlabel('epoch')\n",
    "plt.legend(['train', 'test'], loc='upper left')\n",
    "plt.show()\n",
    "# summarize history for loss\n",
    "plt.plot(history.history['loss'])\n",
    "plt.plot(history.history['val_loss'])\n",
    "plt.title('model loss')\n",
    "plt.ylabel('loss')\n",
    "plt.xlabel('epoch')\n",
    "plt.legend(['train', 'test'], loc='upper left')\n",
    "plt.show()"
   ]
  },
  {
   "cell_type": "markdown",
   "metadata": {},
   "source": [
    "**The model will try to overfit itself but rather save it prior going to the next epoch using necessary callbacks.**"
   ]
  },
  {
   "cell_type": "markdown",
   "metadata": {},
   "source": [
    "**For better performance use exponential decaying learning rate and specify steps_per_epoch**"
   ]
  },
  {
   "cell_type": "code",
   "execution_count": 30,
   "metadata": {
    "_uuid": "15c959475e7fdc902a72d8e22bfe4276cc4b05be"
   },
   "outputs": [],
   "source": [
    "from sklearn.metrics import confusion_matrix\n",
    "pred = model.predict(X_test)\n",
    "pred = np.argmax(pred,axis = 1) \n",
    "y_true = np.argmax(y_test,axis = 1)"
   ]
  },
  {
   "cell_type": "code",
   "execution_count": 26,
   "metadata": {},
   "outputs": [
    {
     "name": "stdout",
     "output_type": "stream",
     "text": [
      "Took 0.5575900077819824 sec to predict 624 images\n",
      "Test accuracy = 74.51923076923077\n"
     ]
    }
   ],
   "source": [
    "## Citlalli addition\n",
    "\n",
    "from time import time\n",
    "# Test Accuracy\n",
    "t1=time()\n",
    "y_proba = model.predict(X_test)\n",
    "t2=time()\n",
    "print  ('Took {} sec to predict {} images'.format(t2-t1, len(X_test)) )\n",
    "\n",
    "pred_labels = []\n",
    "pred_probas = []\n",
    "for i in range(0,len(y_proba)):\n",
    "    classId = y_proba[i].argmax()\n",
    "    pred_labels.append(classId)\n",
    "    proba = max(y_proba[i])\n",
    "    pred_probas.append(proba)\n",
    "\n",
    "pred_labels = np.array(pred_labels, dtype='uint8')\n",
    "pred_probas = np.array(pred_probas)\n",
    "\n",
    "y_true = np.argmax(y_test,axis = 1)\n",
    "acc = np.mean(pred_labels==y_true)\n",
    "\n",
    "print(\"Test accuracy = {}\".format(acc*100))"
   ]
  },
  {
   "cell_type": "markdown",
   "metadata": {},
   "source": [
    "**Using mlxtend library for quick implementation of confusion matrix.**"
   ]
  },
  {
   "cell_type": "code",
   "execution_count": 27,
   "metadata": {
    "_uuid": "a01e456c126483c6929f4a0ff53da3dd1e4f17a0"
   },
   "outputs": [
    {
     "data": {
      "image/png": "[encoded data removed]",
      "text/plain": [
       "<Figure size 360x360 with 1 Axes>"
      ]
     },
     "metadata": {
      "needs_background": "light"
     },
     "output_type": "display_data"
    }
   ],
   "source": [
    "CM = confusion_matrix(y_true, pred)\n",
    "#CM = confusion_matrix(y_true, pred_labels)\n",
    "\n",
    "from mlxtend.plotting import plot_confusion_matrix\n",
    "fig, ax = plot_confusion_matrix(conf_mat=CM ,  figsize=(5, 5))\n",
    "plt.show()"
   ]
  },
  {
   "cell_type": "markdown",
   "metadata": {},
   "source": [
    "**Now, a model not good for validation accuracy might be actually good for precision or recall. So better tune according to the metric or your need.**"
   ]
  },
  {
   "cell_type": "code",
   "execution_count": 31,
   "metadata": {},
   "outputs": [
    {
     "data": {
      "text/plain": [
       "0.7175141242937854"
      ]
     },
     "execution_count": 31,
     "metadata": {},
     "output_type": "execute_result"
    }
   ],
   "source": [
    "# Precision = TP/(TP + FP)\n",
    "\n",
    "#374 / (374 + 103)\n",
    "\n",
    "381/(381+150)"
   ]
  },
  {
   "cell_type": "markdown",
   "metadata": {},
   "source": [
    "    "
   ]
  },
  {
   "cell_type": "markdown",
   "metadata": {},
   "source": []
  },
  {
   "cell_type": "code",
   "execution_count": 32,
   "metadata": {},
   "outputs": [
    {
     "data": {
      "text/plain": [
       "0.9769230769230769"
      ]
     },
     "execution_count": 32,
     "metadata": {},
     "output_type": "execute_result"
    }
   ],
   "source": [
    "# Recall = TP/(TP + FN)\n",
    "\n",
    "#374 / (374 + 16)\n",
    "\n",
    "381/(381+9)"
   ]
  },
  {
   "cell_type": "markdown",
   "metadata": {},
   "source": [
    "### Here , recall is most significant quantity even more than accuracy and precision.  "
   ]
  },
  {
   "cell_type": "markdown",
   "metadata": {},
   "source": [
    "###  Since we are having unequal number of people in both the classes , therefore we can't take accuracy as an alone metric to calculate model efficieny ."
   ]
  },
  {
   "cell_type": "markdown",
   "metadata": {},
   "source": [
    "#### precision = True Positive / (True Positive + False Positive)\n",
    "\n",
    "#### recall = True Positive / (True Positive + False Negative)"
   ]
  },
  {
   "cell_type": "markdown",
   "metadata": {},
   "source": [
    "### Also precision can't be taken as alone metric and has less significance than recall in this particular dataset because we have to minimize false negative and that is in the denominator and thus finally increasing 'Recall' .  "
   ]
  },
  {
   "cell_type": "markdown",
   "metadata": {},
   "source": [
    "### False negative has to be intuitively minimized because we can't falsely diagnose a patient of pneumonia which is our major concern . That is why we are making this model . To reduce the mistakes done by doctors accidentally ."
   ]
  },
  {
   "cell_type": "code",
   "execution_count": null,
   "metadata": {},
   "outputs": [],
   "source": []
  },
  {
   "cell_type": "markdown",
   "metadata": {
    "collapsed": true
   },
   "source": [
    "**-------------Data Science has always been much about context and intuition.--------------------------**"
   ]
  },
  {
   "cell_type": "code",
   "execution_count": null,
   "metadata": {},
   "outputs": [],
   "source": []
  }
 ],
 "metadata": {
  "kernelspec": {
   "display_name": "Python (tfgpu)",
   "language": "python",
   "name": "tfgpu"
  },
  "language_info": {
   "codemirror_mode": {
    "name": "ipython",
    "version": 3
   },
   "file_extension": ".py",
   "mimetype": "text/x-python",
   "name": "python",
   "nbconvert_exporter": "python",
   "pygments_lexer": "ipython3",
   "version": "3.6.7"
  }
 },
 "nbformat": 4,
 "nbformat_minor": 1
}
